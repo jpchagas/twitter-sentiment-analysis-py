{
 "cells": [
  {
   "cell_type": "markdown",
   "metadata": {},
   "source": [
    "# **Tweepy for Twitter API**"
   ]
  },
  {
   "cell_type": "markdown",
   "metadata": {},
   "source": [
    "Twitter is one of the most accessed social networks in the world. Every type of company usually has an account. With that in mind, they are able to verify people's engagement with their products and services, in addition to being able to know their feelings about it. Thus, companies can increase or change their strategies in order to establish an improvement in their deliveries.\n",
    "\n",
    "[Tweepy](http://docs.tweepy.org/en/latest/) is an open source package of Python and an easy way to connect with the Twitter API to collect information, perform analysis and do some automations.\n",
    "\n",
    "Tweepy imposes a rate limit of frequency on the use of the API. Exceeding this limit, we will have to wait 15 minutes to use the API again.\n",
    "\n",
    "*Note: we're going to use Public Mode in our procedures.*"
   ]
  },
  {
   "cell_type": "markdown",
   "metadata": {},
   "source": [
    "### **What is the objective here?**\n",
    "\n",
    "* Collect tweets and retweets.\n",
    "    * timestamp\n",
    "    * location of user\n",
    "    * (re)tweet text\n",
    "    * retweet count\n",
    "    * hashtags"
   ]
  },
  {
   "cell_type": "markdown",
   "metadata": {},
   "source": [
    "## Packages"
   ]
  },
  {
   "cell_type": "markdown",
   "metadata": {},
   "source": [
    "To install tweepy package:\n",
    "\n",
    "```\n",
    "pip install tweepy\n",
    "```\n",
    "\n",
    "Alternatively, install directly from the GitHub repository:\n",
    "\n",
    "```\n",
    "pip install git+https://github.com/tweepy/tweepy.git\n",
    "```\n"
   ]
  },
  {
   "cell_type": "code",
   "execution_count": 1,
   "metadata": {},
   "outputs": [],
   "source": [
    "import tweepy as tw\n",
    "import pandas as pd\n",
    "pd.set_option('display.max_colwidth', None)"
   ]
  },
  {
   "cell_type": "markdown",
   "metadata": {},
   "source": [
    "**AUTHENTICATION**\n",
    "\n",
    "``Private Mode`` - It needs *consumer key*, *consumer secret key*, *access token* and *access token secret.* It's used when, for exemple, you want to do almost everything you can do on the website using code. If you wants to tweet and retweet something, you can. If you want a bot account, you can. And so on...\n",
    "\n",
    "\n",
    "``Public Mode`` - It needs only *consumer key* and *consumer secret key.* The user only access public information."
   ]
  },
  {
   "cell_type": "code",
   "execution_count": 2,
   "metadata": {},
   "outputs": [],
   "source": [
    "## Keys reading\n",
    "\n",
    "# We saved the keys/tokens on a plain text file to \"hide\" them.\n",
    "# HERE WE´RE NOT GOING TO USE TOKEN/TOKEN SECRET\n",
    "\n",
    "with open('.kt/twtk.txt', 'r') as file:\n",
    "    CONSUMER_KEY = file.readline().strip('\\n')\n",
    "    CONSUMER_SECRET_KEY = file.readline().strip('\\n')\n",
    "\n",
    "## Connect the consumer key\n",
    "\n",
    "auth = tw.OAuthHandler(CONSUMER_KEY, CONSUMER_SECRET_KEY) # To both Private and Public Modes"
   ]
  },
  {
   "cell_type": "markdown",
   "metadata": {},
   "source": [
    "**CONNECTION TO TWITTER API**\n",
    "\n",
    "We use the ``auth`` to connect the API. Here are some parameters, among others, to check:\n",
    "\n",
    "* ``wait_on_rate_limit``. When we exceed the rate limit, the connection can be kept if 'True', waiting the API allows procedures again. If 'False', the connection is lost.\n",
    "* ``wait_on_rate_limit_notify`` notifies when the limit is exceeded and the api is waiting for rate limits to replenish.\n",
    "* ``timeout`` is the maximum amount of time (in seconds) to wait for a response from Twitter."
   ]
  },
  {
   "cell_type": "code",
   "execution_count": 3,
   "metadata": {},
   "outputs": [],
   "source": [
    "# Access API user\n",
    "api = tw.API(auth, wait_on_rate_limit=True, wait_on_rate_limit_notify=True, timeout=60)"
   ]
  },
  {
   "cell_type": "markdown",
   "metadata": {},
   "source": [
    "**COLLECT TWEETS**\n",
    "\n",
    "- `api.search`: returns a collection of relevant Tweets matching a specified query;\n",
    "- `q`: any word or list of words we want to check;\n",
    "- `lang`: language given by an ISO 639-1 code;\n",
    "- `result_type`:\n",
    "\n",
    "    - *mixed*: include both popular and real time results in the response;\n",
    "    - *recent*: return only the most recent results in the response;\n",
    "    - *popular*: return only the most popular results in the response.\n",
    "    \n",
    "- `tweet_mode`: if 'compatibility', it returns the until 140 characters. If  'extended', over 140 characters.\n",
    "\n",
    "You can use Cursor attributes:\n",
    "- ``.items(x)`` returns a specific 'x' quantity of tweets;\n",
    "- ``.pages(x)`` returns a specific 'x' quantity of pages (usually about few dozen items).\n",
    "\n"
   ]
  },
  {
   "cell_type": "code",
   "execution_count": 7,
   "metadata": {},
   "outputs": [],
   "source": [
    "## Define parameters\n",
    "\n",
    "# Twitter\n",
    "QUERY1 = ['covid -filter:retweets']\n",
    "ITEMS = 100\n",
    "\n",
    "# lists\n",
    "\n",
    "TWEETS = []\n",
    "\n",
    "# The next loop for collects tweets and retweets according to ITEMS \n",
    "# defined.\n",
    "\n",
    "for tweet in tw.Cursor(api.search,\n",
    "                    q= QUERY1, \n",
    "                    lang= 'pt',\n",
    "                    result_type='recent',\n",
    "                    tweet_mode = 'extended'  # collect the full text (over 140 characters)\n",
    "                    ).items(ITEMS):\n",
    "\n",
    "                    TWEETS.append([tweet.id, tweet.created_at, tweet.user.location, tweet.full_text.replace('\\n', ' '), \n",
    "                                          tweet.retweet_count, [e['text'] for e in tweet._json['entities']['hashtags']]])"
   ]
  },
  {
   "cell_type": "code",
   "execution_count": 8,
   "metadata": {},
   "outputs": [],
   "source": [
    "# Putting tweets on a Data Frame for better view\n",
    "\n",
    "df_tweets = pd.DataFrame(data=TWEETS,  columns=['id', 'created_at', \"location\", 'tweet_text','retweet_count', 'hashtags'])\n",
    "\n",
    "## Saving on .csv file\n",
    "# df_tweets.to_csv('tweets.csv', index=0)"
   ]
  },
  {
   "cell_type": "code",
   "execution_count": 9,
   "metadata": {
    "tags": []
   },
   "outputs": [
    {
     "data": {
      "text/html": [
       "<div>\n",
       "<style scoped>\n",
       "    .dataframe tbody tr th:only-of-type {\n",
       "        vertical-align: middle;\n",
       "    }\n",
       "\n",
       "    .dataframe tbody tr th {\n",
       "        vertical-align: top;\n",
       "    }\n",
       "\n",
       "    .dataframe thead th {\n",
       "        text-align: right;\n",
       "    }\n",
       "</style>\n",
       "<table border=\"1\" class=\"dataframe\">\n",
       "  <thead>\n",
       "    <tr style=\"text-align: right;\">\n",
       "      <th></th>\n",
       "      <th>id</th>\n",
       "      <th>created_at</th>\n",
       "      <th>location</th>\n",
       "      <th>tweet_text</th>\n",
       "      <th>retweet_count</th>\n",
       "      <th>hashtags</th>\n",
       "    </tr>\n",
       "  </thead>\n",
       "  <tbody>\n",
       "    <tr>\n",
       "      <th>0</th>\n",
       "      <td>1285676661590183936</td>\n",
       "      <td>2020-07-21 20:42:57</td>\n",
       "      <td>zn</td>\n",
       "      <td>RT @xjwliax: e vamos de meredith grey criando a vacina do covid</td>\n",
       "      <td>8628</td>\n",
       "      <td>[]</td>\n",
       "    </tr>\n",
       "    <tr>\n",
       "      <th>1</th>\n",
       "      <td>1285676661288181762</td>\n",
       "      <td>2020-07-21 20:42:57</td>\n",
       "      <td>Gravataí, RS.</td>\n",
       "      <td>RT @eueduramos: eu depois de tomar a vacina da covid https://t.co/CGrbUv7iTs</td>\n",
       "      <td>38262</td>\n",
       "      <td>[]</td>\n",
       "    </tr>\n",
       "    <tr>\n",
       "      <th>2</th>\n",
       "      <td>1285676661023952907</td>\n",
       "      <td>2020-07-21 20:42:57</td>\n",
       "      <td></td>\n",
       "      <td>RT @BecaBrix: 🔅Quanto os corruptos lucraram com o COVID 19 https://t.co/1MCZthK4OM</td>\n",
       "      <td>9</td>\n",
       "      <td>[]</td>\n",
       "    </tr>\n",
       "    <tr>\n",
       "      <th>3</th>\n",
       "      <td>1285676660705157120</td>\n",
       "      <td>2020-07-21 20:42:57</td>\n",
       "      <td>As guria 047</td>\n",
       "      <td>RT @xjwliax: e vamos de meredith grey criando a vacina do covid</td>\n",
       "      <td>8628</td>\n",
       "      <td>[]</td>\n",
       "    </tr>\n",
       "    <tr>\n",
       "      <th>4</th>\n",
       "      <td>1285676658628993024</td>\n",
       "      <td>2020-07-21 20:42:56</td>\n",
       "      <td></td>\n",
       "      <td>RT @eueduramos: eu depois de tomar a vacina da covid https://t.co/CGrbUv7iTs</td>\n",
       "      <td>38262</td>\n",
       "      <td>[]</td>\n",
       "    </tr>\n",
       "    <tr>\n",
       "      <th>...</th>\n",
       "      <td>...</td>\n",
       "      <td>...</td>\n",
       "      <td>...</td>\n",
       "      <td>...</td>\n",
       "      <td>...</td>\n",
       "      <td>...</td>\n",
       "    </tr>\n",
       "    <tr>\n",
       "      <th>95</th>\n",
       "      <td>1285676535672983555</td>\n",
       "      <td>2020-07-21 20:42:27</td>\n",
       "      <td>São Gonçalo - RJ</td>\n",
       "      <td>@GMRio estão todos sem máscara e fazendo aglomerações. Assim como nas praias vocês poderiam abordar esses cidadãos e se houver resistência não hesite em usar suas armas de choque. A gente conta com vocês na luta contra a propagação do Covid! https://t.co/PwA6DTPUGI</td>\n",
       "      <td>0</td>\n",
       "      <td>[]</td>\n",
       "    </tr>\n",
       "    <tr>\n",
       "      <th>96</th>\n",
       "      <td>1285676535312199681</td>\n",
       "      <td>2020-07-21 20:42:27</td>\n",
       "      <td>Bel city</td>\n",
       "      <td>RT @oatila: 80 milhões de habitantes, 200 mil casos de COVID e 9,1 mil mortes. Com a Merkel todo dia falando do problema. Pararam com força…</td>\n",
       "      <td>1335</td>\n",
       "      <td>[]</td>\n",
       "    </tr>\n",
       "    <tr>\n",
       "      <th>97</th>\n",
       "      <td>1285676534599241728</td>\n",
       "      <td>2020-07-21 20:42:27</td>\n",
       "      <td>MG, Brasil</td>\n",
       "      <td>RT @IanMdo: Links salvos até aqui pro documentário que estou produzindo sobre a covid-19.  Pouca coisa. https://t.co/iXRzM97mvX</td>\n",
       "      <td>3</td>\n",
       "      <td>[]</td>\n",
       "    </tr>\n",
       "    <tr>\n",
       "      <th>98</th>\n",
       "      <td>1285676534376927233</td>\n",
       "      <td>2020-07-21 20:42:27</td>\n",
       "      <td>Osasco, Brasil</td>\n",
       "      <td>RT @xjwliax: e vamos de meredith grey criando a vacina do covid</td>\n",
       "      <td>8637</td>\n",
       "      <td>[]</td>\n",
       "    </tr>\n",
       "    <tr>\n",
       "      <th>99</th>\n",
       "      <td>1285676534360092672</td>\n",
       "      <td>2020-07-21 20:42:27</td>\n",
       "      <td>Rio de Janeiro, Brasil</td>\n",
       "      <td>RT @g1: No mesmo dia de Oxford, China também anuncia que vacina em desenvolvimento no país é segura e induziu resposta imune =&amp;gt; https://t.c…</td>\n",
       "      <td>2207</td>\n",
       "      <td>[]</td>\n",
       "    </tr>\n",
       "  </tbody>\n",
       "</table>\n",
       "<p>100 rows × 6 columns</p>\n",
       "</div>"
      ],
      "text/plain": [
       "                     id          created_at                location  \\\n",
       "0   1285676661590183936 2020-07-21 20:42:57                     zn    \n",
       "1   1285676661288181762 2020-07-21 20:42:57           Gravataí, RS.   \n",
       "2   1285676661023952907 2020-07-21 20:42:57                           \n",
       "3   1285676660705157120 2020-07-21 20:42:57           As guria 047    \n",
       "4   1285676658628993024 2020-07-21 20:42:56                           \n",
       "..                  ...                 ...                     ...   \n",
       "95  1285676535672983555 2020-07-21 20:42:27        São Gonçalo - RJ   \n",
       "96  1285676535312199681 2020-07-21 20:42:27                Bel city   \n",
       "97  1285676534599241728 2020-07-21 20:42:27              MG, Brasil   \n",
       "98  1285676534376927233 2020-07-21 20:42:27          Osasco, Brasil   \n",
       "99  1285676534360092672 2020-07-21 20:42:27  Rio de Janeiro, Brasil   \n",
       "\n",
       "                                                                                                                                                                                                                                                                   tweet_text  \\\n",
       "0                                                                                                                                                                                                             RT @xjwliax: e vamos de meredith grey criando a vacina do covid   \n",
       "1                                                                                                                                                                                                RT @eueduramos: eu depois de tomar a vacina da covid https://t.co/CGrbUv7iTs   \n",
       "2                                                                                                                                                                                          RT @BecaBrix: 🔅Quanto os corruptos lucraram com o COVID 19 https://t.co/1MCZthK4OM   \n",
       "3                                                                                                                                                                                                             RT @xjwliax: e vamos de meredith grey criando a vacina do covid   \n",
       "4                                                                                                                                                                                                RT @eueduramos: eu depois de tomar a vacina da covid https://t.co/CGrbUv7iTs   \n",
       "..                                                                                                                                                                                                                                                                        ...   \n",
       "95  @GMRio estão todos sem máscara e fazendo aglomerações. Assim como nas praias vocês poderiam abordar esses cidadãos e se houver resistência não hesite em usar suas armas de choque. A gente conta com vocês na luta contra a propagação do Covid! https://t.co/PwA6DTPUGI   \n",
       "96                                                                                                                               RT @oatila: 80 milhões de habitantes, 200 mil casos de COVID e 9,1 mil mortes. Com a Merkel todo dia falando do problema. Pararam com força…   \n",
       "97                                                                                                                                            RT @IanMdo: Links salvos até aqui pro documentário que estou produzindo sobre a covid-19.  Pouca coisa. https://t.co/iXRzM97mvX   \n",
       "98                                                                                                                                                                                                            RT @xjwliax: e vamos de meredith grey criando a vacina do covid   \n",
       "99                                                                                                                            RT @g1: No mesmo dia de Oxford, China também anuncia que vacina em desenvolvimento no país é segura e induziu resposta imune =&gt; https://t.c…   \n",
       "\n",
       "    retweet_count hashtags  \n",
       "0            8628       []  \n",
       "1           38262       []  \n",
       "2               9       []  \n",
       "3            8628       []  \n",
       "4           38262       []  \n",
       "..            ...      ...  \n",
       "95              0       []  \n",
       "96           1335       []  \n",
       "97              3       []  \n",
       "98           8637       []  \n",
       "99           2207       []  \n",
       "\n",
       "[100 rows x 6 columns]"
      ]
     },
     "execution_count": 9,
     "metadata": {},
     "output_type": "execute_result"
    }
   ],
   "source": [
    "df_tweets"
   ]
  },
  {
   "cell_type": "markdown",
   "metadata": {},
   "source": [
    "That was a simple way to collect some (re)tweets informations.\n",
    "\n",
    "Hope you enjoyed.\n",
    "\n",
    "**Timão Legal** :)\n"
   ]
  }
 ],
 "metadata": {
  "kernelspec": {
   "display_name": "Python 3",
   "language": "python",
   "name": "python3"
  },
  "language_info": {
   "codemirror_mode": {
    "name": "ipython",
    "version": 3
   },
   "file_extension": ".py",
   "mimetype": "text/x-python",
   "name": "python",
   "nbconvert_exporter": "python",
   "pygments_lexer": "ipython3",
   "version": "3.7.6"
  }
 },
 "nbformat": 4,
 "nbformat_minor": 4
}
